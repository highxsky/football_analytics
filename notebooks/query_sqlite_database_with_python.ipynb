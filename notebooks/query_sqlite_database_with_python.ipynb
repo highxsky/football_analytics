{
 "cells": [
  {
   "cell_type": "code",
   "execution_count": null,
   "metadata": {},
   "outputs": [],
   "source": [
    "import sqlite3\n",
    "import os\n",
    "import pandas as pd"
   ]
  },
  {
   "cell_type": "markdown",
   "metadata": {},
   "source": [
    "# Notebook "
   ]
  },
  {
   "cell_type": "code",
   "execution_count": null,
   "metadata": {},
   "outputs": [],
   "source": [
    "# change this if youy have set up an environment variable\n",
    "working_dir = os.environ.get(\"FOOTBALL_ANALYTICS\")\n",
    "db_file = os.path.join(working_dir, \"db\", \"football_database.sqlite\")\n",
    "\n",
    "# or use this and input the path where your version of the DB file is stored\n",
    "# db_file = \"C:/.../filepath.sqlite\""
   ]
  },
  {
   "cell_type": "markdown",
   "metadata": {},
   "source": [
    "# Get SQLite database tables and columns output as a pandas dataframe"
   ]
  },
  {
   "cell_type": "code",
   "execution_count": null,
   "metadata": {},
   "outputs": [],
   "source": [
    "# connect to DB\n",
    "conn = sqlite3.connect(db_file)\n",
    "\n",
    "# create a cursor object\n",
    "cursor = conn.cursor()\n",
    "\n",
    "# SQL query to profile SQLite3 DB\n",
    "get_db_profile = \"\"\"\n",
    "    WITH tables AS (\n",
    "        SELECT name \n",
    "        FROM sqlite_master \n",
    "        WHERE type = 'table'\n",
    "    )\n",
    "    \n",
    "    SELECT \n",
    "        t.name AS \"table\", \n",
    "        pti.name AS \"column\"\n",
    "        -- pti.type AS \"column_type\",\n",
    "        -- pti.pk AS \"column_is_primary_key\"\n",
    "    FROM tables t\n",
    "    INNER JOIN pragma_table_info(t.name) pti\n",
    "    ORDER BY t.name;\n",
    "\"\"\"\n",
    "\n",
    "# query\n",
    "cursor.execute(get_db_profile)\n",
    "\n",
    "# to dataframe\n",
    "pd.DataFrame(cursor, columns=[\"table\", \"column\"])"
   ]
  },
  {
   "cell_type": "markdown",
   "metadata": {},
   "source": [
    "# Useful queries to do database profiling with SQLite"
   ]
  },
  {
   "cell_type": "code",
   "execution_count": null,
   "metadata": {},
   "outputs": [],
   "source": [
    "# connect to DB\n",
    "conn = sqlite3.connect(db_file)\n",
    "\n",
    "# create a cursor object\n",
    "cursor = conn.cursor()\n",
    "\n",
    "# list tables\n",
    "list_tables = \"SELECT name FROM sqlite_master WHERE type='table'\"\n",
    "\n",
    "# list columns (position, name, type, number of non null values, default value, primary key indicator)\n",
    "list_columns_from_table = \"PRAGMA table_info(table_name)\"\n",
    "\n",
    "# preview a few rows of data\n",
    "preview_table_sample = \"SELECT * FROM Player LIMIT 10\"\n",
    "\n",
    "# preview output as dataframe, with column headers\n",
    "# with SQLite DB, columns aren't available by default\n",
    "query_output = cursor.execute(preview_table_sample).fetchall()\n",
    "column_names = [row[0] for row in cursor.description]\n",
    "df = pd.DataFrame(data=query_output, columns=column_names)"
   ]
  },
  {
   "cell_type": "markdown",
   "metadata": {},
   "source": [
    "# Example of a SQL query with some good practices to consider\n",
    "\n",
    "- commenting the query\n",
    "- indenting the code\n",
    "- avoiding SELECT * statements\n",
    "- using aliases to name tables"
   ]
  },
  {
   "cell_type": "code",
   "execution_count": null,
   "metadata": {},
   "outputs": [],
   "source": [
    "# retrieving Real Madrid matches\n",
    "get_rma_matches = \"\"\"\n",
    "\n",
    "    -- team_api_id = 8633 is Real Madrid identifier\n",
    "    -- home and away matches involving Real Madrid will be queried\n",
    "\n",
    "    SELECT\n",
    "        m.id, \n",
    "        m.country_id, \n",
    "        m.league_id,\n",
    "        m.season,\n",
    "        m.stage,\n",
    "        m.date,\n",
    "        m.match_api_id,\n",
    "        m.home_team_api_id,\n",
    "        ht.team_long_name AS home_team_name,\n",
    "        ht.team_long_name AS home_team_acronym,\n",
    "        m.away_team_api_id,\n",
    "        at.team_long_name AS away_team_name,\n",
    "        at.team_long_name AS away_team_acronym,\n",
    "        m.home_team_goal,\n",
    "        m.away_team_goal,\n",
    "        m.goal,\n",
    "        m.shoton,\n",
    "        m.shotoff,\n",
    "        m.foulcommit,\n",
    "        m.card,\n",
    "        m.cross,\n",
    "        m.corner,\n",
    "        m.possession\n",
    "    FROM Match m\n",
    "    LEFT JOIN Team AS ht\n",
    "        ON ht.team_api_id = m.home_team_api_id\n",
    "    LEFT JOIN Team AS at\n",
    "        ON at.team_api_id = m.away_team_api_id\n",
    "    WHERE (\n",
    "        m.home_team_api_id = 8633\n",
    "        OR m.away_team_api_id = 8633\n",
    "    )\n",
    "\"\"\"\n",
    "\n",
    "team_names_df = pd.read_sql_query(get_rma_matches, conn)"
   ]
  }
 ],
 "metadata": {
  "kernelspec": {
   "display_name": "Python 3",
   "language": "python",
   "name": "python3"
  },
  "language_info": {
   "codemirror_mode": {
    "name": "ipython",
    "version": 3
   },
   "file_extension": ".py",
   "mimetype": "text/x-python",
   "name": "python",
   "nbconvert_exporter": "python",
   "pygments_lexer": "ipython3",
   "version": "3.10.11"
  }
 },
 "nbformat": 4,
 "nbformat_minor": 2
}
