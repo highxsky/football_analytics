{
 "cells": [
  {
   "cell_type": "markdown",
   "metadata": {},
   "source": [
    "# Notebook\n",
    "\n",
    "This notebook explores how to parse XML data from a string with Python package XML ElementTree."
   ]
  },
  {
   "cell_type": "markdown",
   "metadata": {},
   "source": [
    "# Prep"
   ]
  },
  {
   "cell_type": "markdown",
   "metadata": {},
   "source": [
    "## A - Imports"
   ]
  },
  {
   "cell_type": "code",
   "execution_count": null,
   "metadata": {},
   "outputs": [],
   "source": [
    "import sqlite3\n",
    "import os\n",
    "import pandas as pd\n",
    "import xml.etree.ElementTree as ET"
   ]
  },
  {
   "cell_type": "markdown",
   "metadata": {},
   "source": [
    "## B - DB path"
   ]
  },
  {
   "cell_type": "code",
   "execution_count": null,
   "metadata": {},
   "outputs": [],
   "source": [
    "# change this if youy have set up an environment variable\n",
    "working_dir = os.environ.get(\"FOOTBALL_ANALYTICS\")\n",
    "db_file = os.path.join(working_dir, \"db\", \"football_database.sqlite\")\n",
    "\n",
    "# or use this and input the path where your version of the DB file is stored\n",
    "# db_file = \"C:/.../filepath.sqlite\""
   ]
  },
  {
   "cell_type": "markdown",
   "metadata": {},
   "source": [
    "## C - Query"
   ]
  },
  {
   "cell_type": "code",
   "execution_count": null,
   "metadata": {},
   "outputs": [],
   "source": [
    "# retrieving Real Madrid matches\n",
    "get_rma_matches = \"\"\"\n",
    "    SELECT\n",
    "        m.id, \n",
    "        m.country_id, \n",
    "        m.league_id,\n",
    "        m.season,\n",
    "        m.stage,\n",
    "        m.date,\n",
    "        m.match_api_id,\n",
    "        m.home_team_api_id,\n",
    "        ht.team_long_name AS home_team_name,\n",
    "        ht.team_long_name AS home_team_acronym,\n",
    "        m.away_team_api_id,\n",
    "        at.team_long_name AS away_team_name,\n",
    "        at.team_long_name AS away_team_acronym,\n",
    "        m.home_team_goal,\n",
    "        m.away_team_goal,\n",
    "        m.goal,\n",
    "        m.shoton,\n",
    "        m.shotoff,\n",
    "        m.foulcommit,\n",
    "        m.card,\n",
    "        m.cross,\n",
    "        m.corner,\n",
    "        m.possession\n",
    "    FROM Match m\n",
    "    LEFT JOIN Team AS ht\n",
    "    ON ht.team_api_id = m.home_team_api_id\n",
    "    LEFT JOIN Team AS at\n",
    "    ON at.team_api_id = m.away_team_api_id\n",
    "    WHERE (\n",
    "        m.home_team_api_id = 8633\n",
    "        OR m.away_team_api_id = 8633\n",
    "    )\n",
    "\"\"\""
   ]
  },
  {
   "cell_type": "markdown",
   "metadata": {},
   "source": [
    "## D - Data retrieval"
   ]
  },
  {
   "cell_type": "code",
   "execution_count": null,
   "metadata": {},
   "outputs": [],
   "source": [
    "# connect to DB\n",
    "conn = sqlite3.connect(db_file)\n",
    "\n",
    "# create a cursor object\n",
    "cursor = conn.cursor()\n",
    "\n",
    "# query\n",
    "query_output = cursor.execute(get_rma_matches).fetchall()\n",
    "column_names = [row[0] for row in cursor.description]\n",
    "df = pd.DataFrame(data=query_output, columns=column_names)"
   ]
  },
  {
   "cell_type": "markdown",
   "metadata": {},
   "source": [
    "# Using XML ElementTree"
   ]
  },
  {
   "cell_type": "markdown",
   "metadata": {},
   "source": [
    "## 1 - Getting started\n",
    "\n",
    "First, we retrieve the XML data, as a string (xml_string).\n",
    "Second, we get the root element, its tag (the <> thing).\n",
    "\n",
    "An element, the root or any other element, is characterized by a tag (the <> thing) and a dictionary of attributes (key-value pairs)."
   ]
  },
  {
   "cell_type": "code",
   "execution_count": null,
   "metadata": {},
   "outputs": [],
   "source": [
    "# xml string = value at the intersection of the 4th row, column goal\n",
    "xml_string = df.loc[4, \"goal\"]\n",
    "\n",
    "# getting the root element\n",
    "root = ET.fromstring(xml_string)\n",
    "\n",
    "# getting the tag\n",
    "root_tag = root.tag\n",
    "\n",
    "# getting the attributes, if any\n",
    "root_attrib = root.attrib"
   ]
  },
  {
   "cell_type": "markdown",
   "metadata": {},
   "source": [
    "## 2 - Leveraging XML ETree functions"
   ]
  },
  {
   "cell_type": "markdown",
   "metadata": {},
   "source": [
    "### A - Getting children elements\n",
    "\n",
    "The root element in itself is of no use in our case, so we will explore what we can get from children elements, elements right below the root.\n",
    "Note that the game we are analyzing had 4 goal events, so it is logical to find 4 \"value\" children elements."
   ]
  },
  {
   "cell_type": "code",
   "execution_count": null,
   "metadata": {},
   "outputs": [],
   "source": [
    "# looping over each child in root\n",
    "for child in root:\n",
    "    print(child.tag, child.attrib)"
   ]
  },
  {
   "cell_type": "markdown",
   "metadata": {},
   "source": [
    "### B - Finding meaningful data with XML ETree\n",
    "\n",
    "In our case, the root is the goal element, its children the value elements and the data we want to fetch is one level below.\n",
    "<br>We are typically looking for elements such as \"elapsed\" (when a goal was scored), \"subtype\" (the kind of goal scored) \"player1\" (the player who scored), etc.."
   ]
  },
  {
   "cell_type": "markdown",
   "metadata": {},
   "source": [
    "### C - Accessing an element by its tag\n",
    "\n",
    "If we know what we are looking for, e.g. elements with the tag \"player1\", we can use root.iter() function"
   ]
  },
  {
   "cell_type": "code",
   "execution_count": null,
   "metadata": {},
   "outputs": [],
   "source": [
    "for element in root.iter(\"player1\"):\n",
    "    print(element)\n",
    "    print(element.tag, element.text)"
   ]
  },
  {
   "cell_type": "markdown",
   "metadata": {},
   "source": [
    "### D - Accessing elements by their location / index\n",
    "\n",
    "Let's say we want to analyze the data related to the 1st goal for every game.\n",
    "<br>We would use something like root[i] to navigate our way, or root[i][i] to navigate even further."
   ]
  },
  {
   "cell_type": "code",
   "execution_count": null,
   "metadata": {},
   "outputs": [],
   "source": [
    "# children are nested: we use indexes\n",
    "root[1].tag\n",
    "\n",
    "# if we want the grand children, we can use another index\n",
    "root[1][1].tag\n",
    "\n",
    "# if we want the grand-grand-children, we can use another index, etc..\n",
    "root[1][1][0].tag"
   ]
  },
  {
   "cell_type": "markdown",
   "metadata": {},
   "source": [
    "### E - Accessing elements by their text / values\n",
    "\n",
    "Let's say you want to analyze the goals of a specific player, e.g. \"37469\" which scored 2 goals in the game we are analyzing.\n",
    "<br>Note: player \"37576\" is Javier Saviola, a former Argentina international player who played for Real Madrid from 2007 to 2009."
   ]
  },
  {
   "cell_type": "code",
   "execution_count": null,
   "metadata": {},
   "outputs": [],
   "source": [
    "searched_text = \"37576\"\n",
    "\n",
    "for element in root.iter():\n",
    "    if element.text == searched_text:\n",
    "        print(element.tag, element.text)"
   ]
  },
  {
   "cell_type": "markdown",
   "metadata": {},
   "source": [
    "### F - A note on find and findall\n",
    "\n",
    "Find and Findall do the same thing, finding an element, but one will fetch the very first value found (find), the other will fetch all values found (findall).\n",
    "<br>While there were 4 goals scored, find outputs only 1 element for \"player1\", while findall outputs 4 elements for \"player1\""
   ]
  },
  {
   "cell_type": "code",
   "execution_count": null,
   "metadata": {},
   "outputs": [],
   "source": [
    "# searching for the number of events to analyze\n",
    "\n",
    "# outputs a single value (the first found)\n",
    "print(root.find(\"value\"))\n",
    "\n",
    "# outputs all existing values (total of 4 in our case)\n",
    "print(root.findall(\"value\"))"
   ]
  },
  {
   "cell_type": "markdown",
   "metadata": {},
   "source": [
    "## 3 - Leveraging XPath expressions\n",
    "\n",
    "XPath expressions, similarly to Regular Expressions (Regex), a dedicated way of parsing content out of a tree structure.\n",
    "<br>When we use texty in find and findall functions, it's actually an XPath expression that we are passing as an argument. A simple one but an XPath expression nonetheless.\n",
    "<br>For more details on XPath syntax, check [this W3School resource](https://www.w3schools.com/xml/xpath_syntax.asp)!"
   ]
  },
  {
   "cell_type": "code",
   "execution_count": null,
   "metadata": {},
   "outputs": [],
   "source": [
    "# All \"player1\" grand children from root element\n",
    "# \".\" selects the current node (here: root)\n",
    "# / selects from the current node\n",
    "for element in root.findall(\"value\"):\n",
    "    print(element.tag, element.text)\n",
    "\n",
    "# Getting the goal scorer (player1) for all goals\n",
    "for element in root.findall(\"value//player1\"):\n",
    "    print(element.tag, element.text)\n",
    "\n",
    "# Getting the goal scorer (player1) for the first goal only\n",
    "for element in root.findall(\".//value[1]//player1\"):\n",
    "    print(element.tag, element.text)"
   ]
  },
  {
   "cell_type": "markdown",
   "metadata": {},
   "source": [
    "## 4 - Extracting meaningful data from goal events and storing these in a dataframe\n",
    "\n",
    "Now that we have reviewed how to use XML Element Tree and XPath capabilities, here is one way to extract meaningful data out of our SQL table's column made of XML strings.\n",
    "<br>This will iterate over each row (i.e. over each match) and parse the data into a dictionary, with the event as key and children element texts as values, along with the match_id from the match_column (not in an XML format).\n",
    "<br>These dictionaries are then concatenated into a list, which is then transformed into a Pandas dataframe.\n",
    "\n",
    "<br>Note on retrieving the match_id: for data modelling purposes, we want to store the match ID as well. It will be useful when we create events tables, so we can have a 1-N relationship between match (1) and goal events (N)."
   ]
  },
  {
   "cell_type": "code",
   "execution_count": null,
   "metadata": {},
   "outputs": [],
   "source": [
    "i = 0\n",
    "\n",
    "# creating an empty list to host event dictionaries\n",
    "goal_events_dicts_list = []\n",
    "\n",
    "# iterate over each row / match\n",
    "for xml_string in df[\"goal\"]:\n",
    "\n",
    "    root = ET.fromstring(xml_string)\n",
    "\n",
    "    # extracting elements below value\n",
    "    for element in root.findall(\"./value\"):\n",
    "\n",
    "        # Access specific elements or attributes within each 'value' element\n",
    "        elapsed_time = element.findtext(\"elapsed\")\n",
    "        elapsed_time_plus = element.findtext(\"elapsed_plus\")\n",
    "        team = element.findtext(\"team\")\n",
    "        goal_scorer = element.findtext(\"player1\")\n",
    "        assist_player = element.findtext(\"player2\")\n",
    "        event_type = element.findtext(\"event_incident_typefk\")\n",
    "        type = element.findtext(\"type\")\n",
    "        sub_type = element.findtext(\"subtype\")\n",
    "        event_id = element.findtext(\"id\")\n",
    "\n",
    "        # appending the list with dictionaries\n",
    "        goal_events_dicts_list.append({\n",
    "            \"match_id\": df[\"match_api_id\"][i], # add current match ID to the dictionary\n",
    "            \"event_id\": event_id,\n",
    "            \"event_type\": type,\n",
    "            \"event_sub_type\": sub_type,\n",
    "            \"team\": team,\n",
    "            \"goal_scorer\": goal_scorer,\n",
    "            \"assist_player\": assist_player,\n",
    "            \"elapsed_time\": elapsed_time,\n",
    "            \"elapsed_additional_time\": elapsed_time_plus,\n",
    "            \"event_type_key\": event_type\n",
    "        })\n",
    "    \n",
    "    i = i + 1\n",
    "\n",
    "goal_events_df = pd.DataFrame.from_dict(goal_events_dicts_list)"
   ]
  },
  {
   "cell_type": "code",
   "execution_count": null,
   "metadata": {},
   "outputs": [],
   "source": [
    "goal_events_df"
   ]
  }
 ],
 "metadata": {
  "kernelspec": {
   "display_name": "Python 3",
   "language": "python",
   "name": "python3"
  },
  "language_info": {
   "codemirror_mode": {
    "name": "ipython",
    "version": 3
   },
   "file_extension": ".py",
   "mimetype": "text/x-python",
   "name": "python",
   "nbconvert_exporter": "python",
   "pygments_lexer": "ipython3",
   "version": "3.10.11"
  }
 },
 "nbformat": 4,
 "nbformat_minor": 2
}
